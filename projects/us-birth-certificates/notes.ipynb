{
 "cells": [
  {
   "cell_type": "markdown",
   "metadata": {},
   "source": [
    "# A notebook for experiments\n",
    "\n",
    "### Load data\n"
   ]
  },
  {
   "cell_type": "code",
   "execution_count": 15,
   "metadata": {},
   "outputs": [],
   "source": [
    "import numpy as np\n",
    "import pandas as pd\n",
    "import pyarrow as pa\n",
    "import pyreadstat\n",
    "\n",
    "data_2018 = pd.read_parquet('data/us_births_2018.parquet')\n",
    "data_2019 = pd.read_parquet('data/us_births_2019.parquet')\n",
    "data_2020 = pd.read_parquet('data/us_births_2020.parquet')\n",
    "data_2021 = pd.read_parquet('data/us_births_2021.parquet')\n",
    "data_2022 = pd.read_parquet('data/us_births_2022.parquet')\n",
    "\n",
    "df = pd.concat([data_2018, data_2019, data_2020,\n",
    "               data_2021, data_2022], ignore_index=True)"
   ]
  },
  {
   "cell_type": "code",
   "execution_count": 16,
   "metadata": {},
   "outputs": [
    {
     "data": {
      "text/plain": [
       "CA_DOWN\n",
       "N    18483254\n",
       "U       31789\n",
       "P        5443\n",
       "C        4413\n",
       "Name: count, dtype: int64"
      ]
     },
     "execution_count": 16,
     "metadata": {},
     "output_type": "execute_result"
    }
   ],
   "source": [
    "df[\"CA_DOWN\"].value_counts()"
   ]
  },
  {
   "cell_type": "code",
   "execution_count": 19,
   "metadata": {},
   "outputs": [
    {
     "data": {
      "text/plain": [
       "WIC\n",
       "N    12384667\n",
       "Y     5932421\n",
       "U      207811\n",
       "Name: count, dtype: int64"
      ]
     },
     "execution_count": 19,
     "metadata": {},
     "output_type": "execute_result"
    }
   ],
   "source": [
    "wic = df[\"WIC\"].value_counts()\n",
    "wic"
   ]
  }
 ],
 "metadata": {
  "kernelspec": {
   "display_name": "Python 3",
   "language": "python",
   "name": "python3"
  },
  "language_info": {
   "codemirror_mode": {
    "name": "ipython",
    "version": 3
   },
   "file_extension": ".py",
   "mimetype": "text/x-python",
   "name": "python",
   "nbconvert_exporter": "python",
   "pygments_lexer": "ipython3",
   "version": "3.12.3"
  }
 },
 "nbformat": 4,
 "nbformat_minor": 2
}
