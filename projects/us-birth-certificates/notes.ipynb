{
 "cells": [
  {
   "cell_type": "markdown",
   "metadata": {},
   "source": [
    "# A notebook for experiments\n",
    "\n",
    "### Setup"
   ]
  },
  {
   "cell_type": "code",
   "execution_count": 9,
   "metadata": {},
   "outputs": [],
   "source": [
    "import pandas"
   ]
  },
  {
   "cell_type": "markdown",
   "metadata": {},
   "source": [
    "## Read data\n",
    "\n",
    "#### Read 2022 data"
   ]
  },
  {
   "cell_type": "code",
   "execution_count": 10,
   "metadata": {},
   "outputs": [],
   "source": [
    "colspecs = [\n",
    "    (8,12),     # DOB_YY        Birth Year\n",
    "    (12,14),    # DOB_MM        Birth Month\n",
    "    (31,32),    # BFACIL        Birth Place\n",
    "    (32,33),    # F_BFACIL      Reporting Flag for Birth Place\n",
    "    (72,73),    # MAGE_IMPFLG   Mother’s Age Imputed\n",
    "    (74,75),    # MAGE_REPFLG   Reported Age of Mother Used Flag\n",
    "    (74,76),    # MAGER         Mother’s Single Years of Age\n",
    "    (76,78),    # MAGER14       Mother’s Age Recode 14\n",
    "    (78,79),\t# MAGER9\t    Mother’s Age Recode 9\n",
    "    (83,84),\t# MBSTATE_REC\tMother’s Nativity\n",
    "    (103,104),\t# RESTATUS\t    Residence Status\n",
    "\n",
    "    (551,552),  # CA_DOWN       Down Syndrome\n",
    "\n",
    "]\n",
    "\n",
    "data_2022 = pandas.read_fwf(\"data/Nat2022us/Nat2022PublicUS.c20230504.r20230822.txt\", colspecs=colspecs, header=None)"
   ]
  }
 ],
 "metadata": {
  "kernelspec": {
   "display_name": "Python 3",
   "language": "python",
   "name": "python3"
  },
  "language_info": {
   "codemirror_mode": {
    "name": "ipython",
    "version": 3
   },
   "file_extension": ".py",
   "mimetype": "text/x-python",
   "name": "python",
   "nbconvert_exporter": "python",
   "pygments_lexer": "ipython3",
   "version": "3.12.3"
  }
 },
 "nbformat": 4,
 "nbformat_minor": 2
}
