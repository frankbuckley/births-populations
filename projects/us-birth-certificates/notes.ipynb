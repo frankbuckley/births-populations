{
 "cells": [
  {
   "cell_type": "markdown",
   "metadata": {},
   "source": [
    "# A notebook for experiments\n",
    "\n",
    "### Load data\n"
   ]
  },
  {
   "cell_type": "code",
   "execution_count": 4,
   "metadata": {},
   "outputs": [
    {
     "name": "stdout",
     "output_type": "stream",
     "text": [
      "<class 'pandas.core.frame.DataFrame'>\n",
      "Index: 3676029 entries, 0 to 3676028\n",
      "Data columns (total 64 columns):\n",
      " #   Column       Dtype   \n",
      "---  ------       -----   \n",
      " 0   DOB_YY       int32   \n",
      " 1   DOB_MM       category\n",
      " 2   BFACIL       category\n",
      " 3   F_BFACIL     category\n",
      " 4   MAGE_IMPFLG  category\n",
      " 5   MAGE_REPFLG  category\n",
      " 6   MAGER        category\n",
      " 7   MAGER14      category\n",
      " 8   MAGER9       category\n",
      " 9   MBSTATE_REC  category\n",
      " 10  RESTATUS     category\n",
      " 11  MRACE31      category\n",
      " 12  MRACE6       category\n",
      " 13  MRACE15      category\n",
      " 14  MRACEIMP     category\n",
      " 15  MHISPX       category\n",
      " 16  MHISP_R      category\n",
      " 17  F_MHISP      category\n",
      " 18  MRACEHISP    category\n",
      " 19  MAR_P        category\n",
      " 20  DMAR         category\n",
      " 21  MAR_IMP      category\n",
      " 22  F_MAR_P      category\n",
      " 23  MEDUC        category\n",
      " 24  F_MEDUC      category\n",
      " 25  FAGERPT_FLG  category\n",
      " 26  FAGECOMB     category\n",
      " 27  FAGEREC11    category\n",
      " 28  FRACE31      category\n",
      " 29  FRACE6       category\n",
      " 30  FRACE15      category\n",
      " 31  FHISPX       category\n",
      " 32  FHISP_R      category\n",
      " 33  F_FHISP      category\n",
      " 34  FRACEHISP    category\n",
      " 35  FEDUC        category\n",
      " 36  PRIORLIVE    category\n",
      " 37  PRIORDEAD    category\n",
      " 38  PRIORTERM    category\n",
      " 39  LBO_REC      category\n",
      " 40  TBO_REC      category\n",
      " 41  PRECARE      category\n",
      " 42  PAY          category\n",
      " 43  PAY_REC      category\n",
      " 44  F_PAY        category\n",
      " 45  F_PAY_REC    category\n",
      " 46  SEX          category\n",
      " 47  IMP_SEX      category\n",
      " 48  CA_ANEN      category\n",
      " 49  CA_MNSB      category\n",
      " 50  CA_CCHD      category\n",
      " 51  CA_CDH       category\n",
      " 52  OMPH         category\n",
      " 53  CA_GAST      category\n",
      " 54  F_CA_ANEN    category\n",
      " 55  F_CA_MENIN   category\n",
      " 56  F_CA_HEART   category\n",
      " 57  F_CA_HERNIA  category\n",
      " 58  F_CA_OMPHA   category\n",
      " 59  F_CA_GASTRO  category\n",
      " 60  CA_LIMB      category\n",
      " 61  CA_CLEFT     category\n",
      " 62  CA_CLPAL     category\n",
      " 63  CA_DOWN      category\n",
      "dtypes: category(63), int32(1)\n",
      "memory usage: 263.0 MB\n"
     ]
    }
   ],
   "source": [
    "import numpy as np\n",
    "import pandas as pd\n",
    "import pyarrow as pa\n",
    "import pyreadstat\n",
    "\n",
    "data_2022 = pd.read_hdf('data/data_2022.h5', key='data_2022')"
   ]
  },
  {
   "cell_type": "code",
   "execution_count": 6,
   "metadata": {},
   "outputs": [
    {
     "data": {
      "text/plain": [
       "CA_DOWN\n",
       "N    3666667\n",
       "U       7501\n",
       "P       1043\n",
       "C        818\n",
       "Name: count, dtype: int64"
      ]
     },
     "execution_count": 6,
     "metadata": {},
     "output_type": "execute_result"
    }
   ],
   "source": [
    "data_2022[\"CA_DOWN\"].value_counts()"
   ]
  },
  {
   "cell_type": "code",
   "execution_count": null,
   "metadata": {},
   "outputs": [
    {
     "data": {
      "text/plain": [
       "CA_DOWN\n",
       "N    3658502\n",
       "U       7399\n",
       "P       1039\n",
       "C        818\n",
       "Name: count, dtype: int64"
      ]
     },
     "execution_count": 7,
     "metadata": {},
     "output_type": "execute_result"
    }
   ],
   "source": [
    "us_residents_only = data_2022[data_2022[\"RESTATUS\"] != 4]\n",
    "\n",
    "us_residents_only[\"CA_DOWN\"].value_counts()"
   ]
  },
  {
   "cell_type": "code",
   "execution_count": 11,
   "metadata": {},
   "outputs": [
    {
     "data": {
      "text/plain": [
       "CA_DOWN\n",
       "N    8165\n",
       "U     102\n",
       "P       4\n",
       "C       0\n",
       "Name: count, dtype: int64"
      ]
     },
     "execution_count": 11,
     "metadata": {},
     "output_type": "execute_result"
    }
   ],
   "source": [
    "foreign = data_2022[data_2022[\"RESTATUS\"] == 4]\n",
    "\n",
    "foreign_ds = foreign[\"CA_DOWN\"].value_counts()\n",
    "foreign_ds"
   ]
  },
  {
   "cell_type": "code",
   "execution_count": 12,
   "metadata": {},
   "outputs": [
    {
     "data": {
      "text/plain": [
       "MRACE31\n",
       "1     7628\n",
       "2      318\n",
       "4      257\n",
       "3       22\n",
       "13      13\n",
       "6       11\n",
       "5        8\n",
       "10       8\n",
       "8        2\n",
       "18       1\n",
       "15       1\n",
       "23       1\n",
       "7        1\n",
       "28       0\n",
       "27       0\n",
       "22       0\n",
       "30       0\n",
       "26       0\n",
       "25       0\n",
       "24       0\n",
       "29       0\n",
       "16       0\n",
       "21       0\n",
       "20       0\n",
       "19       0\n",
       "17       0\n",
       "14       0\n",
       "12       0\n",
       "11       0\n",
       "9        0\n",
       "31       0\n",
       "Name: count, dtype: int64"
      ]
     },
     "execution_count": 12,
     "metadata": {},
     "output_type": "execute_result"
    }
   ],
   "source": [
    "race_recode_31 = foreign[\"MRACE31\"].value_counts()\n",
    "race_recode_31"
   ]
  },
  {
   "cell_type": "code",
   "execution_count": null,
   "metadata": {},
   "outputs": [
    {
     "data": {
      "text/plain": [
       "MRACE6\n",
       "1    7628\n",
       "2     318\n",
       "4     257\n",
       "6      38\n",
       "3      22\n",
       "5       8\n",
       "Name: count, dtype: int64"
      ]
     },
     "execution_count": 10,
     "metadata": {},
     "output_type": "execute_result"
    }
   ],
   "source": [
    "race_recode_6 = foreign[\"MRACE6\"].value_counts()\n",
    "race_recode_6"
   ]
  },
  {
   "cell_type": "code",
   "execution_count": null,
   "metadata": {},
   "outputs": [
    {
     "data": {
      "text/plain": [
       "MRACE15\n",
       "1     7628\n",
       "2      318\n",
       "5       95\n",
       "4       69\n",
       "10      39\n",
       "15      38\n",
       "6       28\n",
       "3       22\n",
       "9       10\n",
       "7        9\n",
       "8        7\n",
       "14       5\n",
       "12       2\n",
       "11       1\n",
       "13       0\n",
       "Name: count, dtype: int64"
      ]
     },
     "execution_count": 11,
     "metadata": {},
     "output_type": "execute_result"
    }
   ],
   "source": [
    "race_recode_15 = foreign[\"MRACE15\"].value_counts()\n",
    "race_recode_15"
   ]
  },
  {
   "cell_type": "code",
   "execution_count": null,
   "metadata": {},
   "outputs": [
    {
     "data": {
      "text/plain": [
       "MHISPX\n",
       "1    6507\n",
       "0    1181\n",
       "9     312\n",
       "4     131\n",
       "6     108\n",
       "5      13\n",
       "2      11\n",
       "3       8\n",
       "Name: count, dtype: int64"
      ]
     },
     "execution_count": 12,
     "metadata": {},
     "output_type": "execute_result"
    }
   ],
   "source": [
    "m_hisp_origin = foreign[\"MHISPX\"].value_counts()\n",
    "m_hisp_origin"
   ]
  },
  {
   "cell_type": "markdown",
   "metadata": {},
   "source": [
    "Export"
   ]
  },
  {
   "cell_type": "code",
   "execution_count": null,
   "metadata": {},
   "outputs": [],
   "source": [
    "# pyreadstat.write_sav(data_2022, \"data/data_2022.sav\")\n",
    "\n",
    "# pyreadstat.write_dta(data_2022, \"data/data_2022.dta\")\n",
    "\n",
    "# data_2022.to_hdf(\"data/data_2022.h5\", key=\"data_2022\", format=\"table\")\n",
    "\n",
    "# data_2022.to_csv(\"data/data_2022.csv\", index=False)"
   ]
  }
 ],
 "metadata": {
  "kernelspec": {
   "display_name": "Python 3",
   "language": "python",
   "name": "python3"
  },
  "language_info": {
   "codemirror_mode": {
    "name": "ipython",
    "version": 3
   },
   "file_extension": ".py",
   "mimetype": "text/x-python",
   "name": "python",
   "nbconvert_exporter": "python",
   "pygments_lexer": "ipython3",
   "version": "3.12.3"
  }
 },
 "nbformat": 4,
 "nbformat_minor": 2
}
