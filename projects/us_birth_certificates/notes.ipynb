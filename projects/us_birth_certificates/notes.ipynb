{
 "cells": [
  {
   "cell_type": "markdown",
   "metadata": {},
   "source": [
    "# A notebook for experiments\n",
    "\n",
    "### Load data\n"
   ]
  },
  {
   "cell_type": "code",
   "execution_count": 1,
   "metadata": {},
   "outputs": [
    {
     "name": "stdout",
     "output_type": "stream",
     "text": [
      "<class 'pandas.core.frame.DataFrame'>\n",
      "RangeIndex: 22389653 entries, 0 to 22389652\n",
      "Data columns (total 82 columns):\n",
      " #   Column        Dtype   \n",
      "---  ------        -----   \n",
      " 0   DOB_YY        int32   \n",
      " 1   DOB_MM        category\n",
      " 2   BFACIL        category\n",
      " 3   F_BFACIL      category\n",
      " 4   MAGE_IMPFLG   category\n",
      " 5   MAGE_REPFLG   category\n",
      " 6   MAGER         category\n",
      " 7   MAGER14       category\n",
      " 8   MAGER9        category\n",
      " 9   MBSTATE_REC   category\n",
      " 10  RESTATUS      category\n",
      " 11  MRACE31       category\n",
      " 12  MRACE6        category\n",
      " 13  MRACE15       category\n",
      " 14  MRACEIMP      category\n",
      " 15  MHISPX        category\n",
      " 16  MHISP_R       category\n",
      " 17  F_MHISP       category\n",
      " 18  MRACEHISP     category\n",
      " 19  MAR_P         category\n",
      " 20  DMAR          category\n",
      " 21  MAR_IMP       category\n",
      " 22  F_MAR_P       category\n",
      " 23  MEDUC         category\n",
      " 24  F_MEDUC       category\n",
      " 25  FAGERPT_FLG   category\n",
      " 26  FAGECOMB      category\n",
      " 27  FAGEREC11     category\n",
      " 28  FRACE31       category\n",
      " 29  FRACE6        category\n",
      " 30  FRACE15       category\n",
      " 31  FHISPX        category\n",
      " 32  FHISP_R       category\n",
      " 33  F_FHISP       category\n",
      " 34  FRACEHISP     category\n",
      " 35  FEDUC         category\n",
      " 36  PRIORLIVE     category\n",
      " 37  PRIORDEAD     category\n",
      " 38  PRIORTERM     category\n",
      " 39  LBO_REC       category\n",
      " 40  TBO_REC       category\n",
      " 41  PRECARE       category\n",
      " 42  PAY           category\n",
      " 43  PAY_REC       category\n",
      " 44  F_PAY         category\n",
      " 45  F_PAY_REC     category\n",
      " 46  SEX           category\n",
      " 47  IMP_SEX       category\n",
      " 48  CA_ANEN       category\n",
      " 49  CA_MNSB       category\n",
      " 50  CA_CCHD       category\n",
      " 51  CA_CDH        category\n",
      " 52  OMPH          category\n",
      " 53  CA_GAST       category\n",
      " 54  F_CA_ANEN     category\n",
      " 55  F_CA_MENIN    category\n",
      " 56  F_CA_HEART    category\n",
      " 57  F_CA_HERNIA   category\n",
      " 58  F_CA_OMPHA    category\n",
      " 59  F_CA_GASTRO   category\n",
      " 60  CA_LIMB       category\n",
      " 61  CA_CLEFT      category\n",
      " 62  CA_CLPAL      category\n",
      " 63  CA_DOWN       category\n",
      " 64  CA_DISOR      category\n",
      " 65  CA_HYPO       category\n",
      " 66  F_CA_LIMB     category\n",
      " 67  F_CA_CLEFT    category\n",
      " 68  F_CA_CLPAL    category\n",
      " 69  F_CA_DOWN     category\n",
      " 70  F_CA_DISOR    category\n",
      " 71  F_CA_HYPO     category\n",
      " 72  NO_CONGEN     category\n",
      " 73  F_MPCB        category\n",
      " 74  PRECARE5      category\n",
      " 75  PREVIS        category\n",
      " 76  PREVIS_REC    category\n",
      " 77  F_TPCV        category\n",
      " 78  WIC           category\n",
      " 79  F_WIC         category\n",
      " 80  DS            category\n",
      " 81  DS_LB_CHANCE  float64 \n",
      "dtypes: category(80), float64(1), int32(1)\n",
      "memory usage: 1.9 GB\n"
     ]
    }
   ],
   "source": [
    "import math\n",
    "import numpy as np\n",
    "import pandas as pd\n",
    "import pyarrow as pa\n",
    "import pyreadstat\n",
    "\n",
    "import prepare.columns as columns\n",
    "\n",
    "df = pd.read_parquet(\"data/us_births_all.parquet\")\n",
    "df = columns.set_column_types(df)\n",
    "\n",
    "df.info()"
   ]
  },
  {
   "cell_type": "code",
   "execution_count": 3,
   "metadata": {},
   "outputs": [
    {
     "data": {
      "text/plain": [
       "WIC  DS\n",
       "N    N     14723144\n",
       "     U        20108\n",
       "     Y         7908\n",
       "U    N       247471\n",
       "     U         5365\n",
       "     Y          183\n",
       "Y    N      7370412\n",
       "     U        11253\n",
       "     Y         3809\n",
       "Name: count, dtype: int64"
      ]
     },
     "execution_count": 3,
     "metadata": {},
     "output_type": "execute_result"
    }
   ],
   "source": [
    "ds_wic = df[[\"DS\", \"WIC\"]].groupby(\n",
    "    \"WIC\", observed=True).value_counts()\n",
    "ds_wic.to_clipboard()\n",
    "ds_wic"
   ]
  },
  {
   "cell_type": "code",
   "execution_count": 4,
   "metadata": {},
   "outputs": [
    {
     "data": {
      "text/plain": [
       "DOB_YY  DS\n",
       "2017    N     3857773\n",
       "        U        4937\n",
       "        Y        2044\n",
       "2018    N     3793319\n",
       "        U        6107\n",
       "        Y        2108\n",
       "2019    N     3750084\n",
       "        U        5468\n",
       "        Y        2030\n",
       "2020    N     3612707\n",
       "        U        5165\n",
       "        Y        1954\n",
       "2021    N     3660477\n",
       "        U        7548\n",
       "        Y        1903\n",
       "2022    N     3666667\n",
       "        U        7501\n",
       "        Y        1861\n",
       "Name: count, dtype: int64"
      ]
     },
     "execution_count": 4,
     "metadata": {},
     "output_type": "execute_result"
    }
   ],
   "source": [
    "year_ds = df[[\"DOB_YY\", \"DS\"]].groupby(\n",
    "    \"DOB_YY\", observed=True).value_counts()\n",
    "year_ds.to_clipboard()\n",
    "year_ds"
   ]
  }
 ],
 "metadata": {
  "kernelspec": {
   "display_name": "Python 3",
   "language": "python",
   "name": "python3"
  },
  "language_info": {
   "codemirror_mode": {
    "name": "ipython",
    "version": 3
   },
   "file_extension": ".py",
   "mimetype": "text/x-python",
   "name": "python",
   "nbconvert_exporter": "python",
   "pygments_lexer": "ipython3",
   "version": "3.12.3"
  }
 },
 "nbformat": 4,
 "nbformat_minor": 2
}
