{
 "cells": [
  {
   "cell_type": "markdown",
   "metadata": {},
   "source": [
    "# A notebook for experiments\n",
    "\n",
    "### Load data\n"
   ]
  },
  {
   "cell_type": "code",
   "execution_count": 1,
   "metadata": {},
   "outputs": [
    {
     "ename": "ModuleNotFoundError",
     "evalue": "No module named 'us_birth_certificates'",
     "output_type": "error",
     "traceback": [
      "\u001b[1;31m---------------------------------------------------------------------------\u001b[0m",
      "\u001b[1;31mModuleNotFoundError\u001b[0m                       Traceback (most recent call last)",
      "Cell \u001b[1;32mIn[1], line 7\u001b[0m\n\u001b[0;32m      4\u001b[0m \u001b[38;5;28;01mimport\u001b[39;00m \u001b[38;5;21;01mos\u001b[39;00m\u001b[38;5;241m,\u001b[39m \u001b[38;5;21;01msys\u001b[39;00m\n\u001b[0;32m      6\u001b[0m \u001b[38;5;28;01mimport\u001b[39;00m \u001b[38;5;21;01mfields\u001b[39;00m\n\u001b[1;32m----> 7\u001b[0m \u001b[38;5;28;01mimport\u001b[39;00m \u001b[38;5;21;01mcolumns\u001b[39;00m\n\u001b[0;32m      9\u001b[0m df \u001b[38;5;241m=\u001b[39m pd\u001b[38;5;241m.\u001b[39mread_parquet(\u001b[38;5;124m\"\u001b[39m\u001b[38;5;124mdata/us_births_all.parquet\u001b[39m\u001b[38;5;124m\"\u001b[39m, engine\u001b[38;5;241m=\u001b[39m\u001b[38;5;124m\"\u001b[39m\u001b[38;5;124mfastparquet\u001b[39m\u001b[38;5;124m\"\u001b[39m)\n\u001b[0;32m     10\u001b[0m df \u001b[38;5;241m=\u001b[39m columns\u001b[38;5;241m.\u001b[39mset_all_column_types(df)\n",
      "File \u001b[1;32mv:\\dev\\frankbuckley\\ds-births-populations\\projects\\us_birth_certificates\\columns.py:5\u001b[0m\n\u001b[0;32m      1\u001b[0m \u001b[38;5;124;03m\"\"\"Column utilities.\"\"\"\u001b[39;00m\n\u001b[0;32m      3\u001b[0m \u001b[38;5;28;01mimport\u001b[39;00m \u001b[38;5;21;01mpandas\u001b[39;00m \u001b[38;5;28;01mas\u001b[39;00m \u001b[38;5;21;01mpd\u001b[39;00m\n\u001b[1;32m----> 5\u001b[0m \u001b[38;5;28;01mfrom\u001b[39;00m \u001b[38;5;21;01mus_birth_certificates\u001b[39;00m \u001b[38;5;28;01mimport\u001b[39;00m chance\n\u001b[0;32m      6\u001b[0m \u001b[38;5;28;01mfrom\u001b[39;00m \u001b[38;5;21;01mus_birth_certificates\u001b[39;00m \u001b[38;5;28;01mimport\u001b[39;00m fields\n\u001b[0;32m      9\u001b[0m computed_column_types \u001b[38;5;241m=\u001b[39m {\n\u001b[0;32m     10\u001b[0m     fields\u001b[38;5;241m.\u001b[39mDS: \u001b[38;5;124m\"\u001b[39m\u001b[38;5;124mcategory\u001b[39m\u001b[38;5;124m\"\u001b[39m,\n\u001b[0;32m     11\u001b[0m     fields\u001b[38;5;241m.\u001b[39mDS_LB_CHANCE: \u001b[38;5;124m\"\u001b[39m\u001b[38;5;124mfloat64\u001b[39m\u001b[38;5;124m\"\u001b[39m,\n\u001b[0;32m     12\u001b[0m }\n",
      "\u001b[1;31mModuleNotFoundError\u001b[0m: No module named 'us_birth_certificates'"
     ]
    }
   ],
   "source": [
    "import math\n",
    "import numpy as np\n",
    "import pandas as pd\n",
    "import os, sys\n",
    "\n",
    "import fields\n",
    "import columns\n",
    "\n",
    "df = pd.read_parquet(\"data/us_births_all.parquet\", engine=\"fastparquet\")\n",
    "df = columns.set_all_column_types(df)\n",
    "\n",
    "# df.info()"
   ]
  },
  {
   "cell_type": "code",
   "execution_count": 7,
   "metadata": {},
   "outputs": [
    {
     "data": {
      "text/plain": [
       "DOB_YY  CA_DOWN\n",
       "2014    N          3841909\n",
       "        U            11439\n",
       "        P             1148\n",
       "        C              779\n",
       "2015    N          3911731\n",
       "        U             5900\n",
       "        P             1179\n",
       "        C              858\n",
       "2016    N          3947116\n",
       "        U             6828\n",
       "        P             1229\n",
       "        C              939\n",
       "2017    N          3857773\n",
       "        U             4937\n",
       "        P             1143\n",
       "        C              901\n",
       "2018    N          3793319\n",
       "        U             6107\n",
       "        P             1187\n",
       "        C              921\n",
       "2019    N          3750084\n",
       "        U             5468\n",
       "        P             1107\n",
       "        C              923\n",
       "2020    N          3612707\n",
       "        U             5165\n",
       "        P             1060\n",
       "        C              894\n",
       "2021    N          3660477\n",
       "        U             7548\n",
       "        P             1046\n",
       "        C              857\n",
       "2022    N          3666667\n",
       "        U             7501\n",
       "        P             1043\n",
       "        C              818\n",
       "Name: count, dtype: int64"
      ]
     },
     "execution_count": 7,
     "metadata": {},
     "output_type": "execute_result"
    }
   ],
   "source": [
    "ds_wic = df[[fields.DOB_YY, fields.CA_DOWN]].groupby(\n",
    "    fields.DOB_YY, observed=True).value_counts()\n",
    "ds_wic.to_clipboard()\n",
    "ds_wic"
   ]
  }
 ],
 "metadata": {
  "kernelspec": {
   "display_name": "Python 3",
   "language": "python",
   "name": "python3"
  },
  "language_info": {
   "codemirror_mode": {
    "name": "ipython",
    "version": 3
   },
   "file_extension": ".py",
   "mimetype": "text/x-python",
   "name": "python",
   "nbconvert_exporter": "python",
   "pygments_lexer": "ipython3",
   "version": "3.12.3"
  }
 },
 "nbformat": 4,
 "nbformat_minor": 2
}
